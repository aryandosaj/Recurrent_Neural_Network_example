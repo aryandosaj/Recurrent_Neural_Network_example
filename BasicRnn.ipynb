{
 "cells": [
  {
   "cell_type": "code",
   "execution_count": 1,
   "metadata": {
    "collapsed": true
   },
   "outputs": [],
   "source": [
    "import tensorflow as tf\n",
    "import numpy as np"
   ]
  },
  {
   "cell_type": "code",
   "execution_count": 2,
   "metadata": {},
   "outputs": [],
   "source": [
    "n_inputs = 3\n",
    "n_neurons = 5\n",
    "X1 = tf.placeholder(tf.float32,[None,n_inputs])\n",
    "X2 = tf.placeholder(tf.float32,[None,n_inputs])\n",
    "W_x = tf.get_variable(\"W_x\",shape=[n_inputs,n_neurons],dtype=tf.float32,initializer=None,regularizer=None,trainable=True,collections=None)\n",
    "W_y = tf.get_variable(\"W_y\",shape=[n_neurons,n_neurons],dtype=tf.float32,initializer=None,regularizer=None,trainable=True,collections=None)\n",
    "b = tf.get_variable(\"b\",shape=[1,n_neurons],dtype=tf.float32,initializer=None,regularizer=None,trainable=True,collections=None)\n",
    "Y1 = tf.nn.relu(tf.matmul(X1,W_x)+b)\n",
    "Y2 = tf.nn.relu(tf.matmul(Y1,W_y)+tf.matmul(X2,W_x)+b)\n",
    "init_op = tf.global_variables_initializer()"
   ]
  },
  {
   "cell_type": "code",
   "execution_count": 3,
   "metadata": {
    "collapsed": true
   },
   "outputs": [],
   "source": [
    "init_op = tf.global_variables_initializer()\n"
   ]
  },
  {
   "cell_type": "code",
   "execution_count": 4,
   "metadata": {
    "collapsed": true
   },
   "outputs": [],
   "source": [
    "X1_batch = np.array([[0,2,3],[2,8,9],[5,3,8],[3,4,5]])\n",
    "X2_batch = np.array([[5,6,7],[8,3,4],[5,6,1],[3,6,1]])"
   ]
  },
  {
   "cell_type": "code",
   "execution_count": 5,
   "metadata": {
    "collapsed": true
   },
   "outputs": [],
   "source": [
    "with tf.Session() as sess:\n",
    "    init_op.run()\n",
    "    Y1_val,Y2_val = sess.run([Y1,Y2],feed_dict = {X1: X1_batch,X2: X2_batch})\n",
    "    \n",
    "\n"
   ]
  },
  {
   "cell_type": "code",
   "execution_count": 6,
   "metadata": {},
   "outputs": [
    {
     "name": "stdout",
     "output_type": "stream",
     "text": [
      "[[  0.           0.           2.60617614   0.           0.89150929]\n",
      " [  0.           0.          10.00212479   0.           0.7726047 ]\n",
      " [  0.           0.           7.34832478   0.           3.60931635]\n",
      " [  0.           0.           6.49924755   0.           0.73300123]]\n",
      "[[ 0.          0.          8.9674654   0.          0.        ]\n",
      " [ 0.          0.          5.86621952  0.          0.        ]\n",
      " [ 0.          0.          6.31855488  0.          0.        ]\n",
      " [ 0.          0.          5.80497646  0.          0.        ]]\n"
     ]
    }
   ],
   "source": [
    "print(Y1_val)\n",
    "print(Y2_val)"
   ]
  },
  {
   "cell_type": "code",
   "execution_count": 4,
   "metadata": {},
   "outputs": [
    {
     "name": "stdout",
     "output_type": "stream",
     "text": [
      "[[-0.30452564  0.47166437  0.59854937  0.88386142 -0.81324553]\n",
      " [-0.67559958  0.71029574  0.73806047  0.97278959 -0.9186703 ]\n",
      " [-0.86862409  0.85198563  0.83412004  0.99384719 -0.96570724]\n",
      " [-0.95020825  0.92732197  0.89703906  0.99862015 -0.98574257]]\n",
      "[[-0.7520746   0.95847178  0.98553461  0.98315871 -0.98124242]\n",
      " [-0.88307416  0.98106056  0.99552763  0.99052644 -0.99148756]\n",
      " [-0.95130157  0.99114561  0.99812704  0.99648619 -0.99618334]\n",
      " [-0.98082829  0.99581939  0.99906635  0.99898905 -0.99832106]]\n"
     ]
    }
   ],
   "source": [
    "basic_cell = tf.nn.rnn_cell.BasicRNNCell(num_units=n_neurons)\n",
    "output_seqs, states = tf.contrib.rnn.static_rnn(basic_cell,[X1,X2],dtype=tf.float32)\n",
    "Y1,Y2 = output_seqs\n",
    "init_op = tf.global_variables_initializer()\n",
    "X1_batch = np.array([[1,2,3],[2,3,4],[3,4,5],[4,5,6]])\n",
    "X2_batch = np.array([[4,5,6],[5,6,7],[6,7,8],[7,8,9]])\n",
    "with tf.Session() as sess:\n",
    "    init_op.run()\n",
    "    Y1_val,Y2_val = sess.run([Y1,Y2],feed_dict = {X1: X1_batch,X2: X2_batch})\n",
    "print(Y1_val)\n",
    "print(Y2_val)"
   ]
  },
  {
   "cell_type": "code",
   "execution_count": null,
   "metadata": {
    "collapsed": true
   },
   "outputs": [],
   "source": []
  }
 ],
 "metadata": {
  "kernelspec": {
   "display_name": "Python 3",
   "language": "python",
   "name": "python3"
  },
  "language_info": {
   "codemirror_mode": {
    "name": "ipython",
    "version": 3
   },
   "file_extension": ".py",
   "mimetype": "text/x-python",
   "name": "python",
   "nbconvert_exporter": "python",
   "pygments_lexer": "ipython3",
   "version": "3.6.3"
  }
 },
 "nbformat": 4,
 "nbformat_minor": 2
}
