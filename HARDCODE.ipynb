{
 "cells": [
  {
   "cell_type": "code",
   "execution_count": 2,
   "metadata": {
    "collapsed": true
   },
   "outputs": [],
   "source": [
    "data = open('kafka.txt','r').read()"
   ]
  },
  {
   "cell_type": "code",
   "execution_count": 3,
   "metadata": {},
   "outputs": [
    {
     "name": "stdout",
     "output_type": "stream",
     "text": [
      "137629 81\n"
     ]
    }
   ],
   "source": [
    "chars = list(set(data))\n",
    "data_size,vocab_size = len(data),len(chars)\n",
    "print(data_size,vocab_size)"
   ]
  },
  {
   "cell_type": "code",
   "execution_count": 6,
   "metadata": {},
   "outputs": [
    {
     "name": "stdout",
     "output_type": "stream",
     "text": [
      "{0: '9', 1: 'D', 2: '4', 3: 'H', 4: 'k', 5: 'l', 6: 'q', 7: 'z', 8: 'r', 9: 'A', 10: 'g', 11: '(', 12: 'R', 13: 'M', 14: '3', 15: \"'\", 16: '/', 17: 'e', 18: 's', 19: ' ', 20: '.', 21: 'E', 22: 'v', 23: 'y', 24: ':', 25: 'Y', 26: 'f', 27: '§', 28: 'm', 29: '1', 30: 'I', 31: 'C', 32: '2', 33: 'V', 34: 'a', 35: 'p', 36: '6', 37: 'S', 38: 'N', 39: 'K', 40: 'o', 41: ',', 42: 'O', 43: 'W', 44: 'x', 45: '!', 46: 'F', 47: 'J', 48: 'Ã', 49: ';', 50: '%', 51: 'c', 52: 'L', 53: 't', 54: '0', 55: 'w', 56: 'Q', 57: 'P', 58: 'i', 59: '8', 60: 'b', 61: '\\n', 62: 'X', 63: '7', 64: 'u', 65: 'd', 66: ')', 67: '\"', 68: 'U', 69: '5', 70: '@', 71: '*', 72: '$', 73: 'n', 74: '?', 75: 'G', 76: 'j', 77: 'h', 78: 'B', 79: 'T', 80: '-'}\n",
      "{'9': 0, 'D': 1, '4': 2, 'H': 3, 'k': 4, 'l': 5, 'q': 6, 'z': 7, 'r': 8, 'A': 9, 'g': 10, '(': 11, 'R': 12, 'M': 13, '3': 14, \"'\": 15, '/': 16, 'e': 17, 's': 18, ' ': 19, '.': 20, 'E': 21, 'v': 22, 'y': 23, ':': 24, 'Y': 25, 'f': 26, '§': 27, 'm': 28, '1': 29, 'I': 30, 'C': 31, '2': 32, 'V': 33, 'a': 34, 'p': 35, '6': 36, 'S': 37, 'N': 38, 'K': 39, 'o': 40, ',': 41, 'O': 42, 'W': 43, 'x': 44, '!': 45, 'F': 46, 'J': 47, 'Ã': 48, ';': 49, '%': 50, 'c': 51, 'L': 52, 't': 53, '0': 54, 'w': 55, 'Q': 56, 'P': 57, 'i': 58, '8': 59, 'b': 60, '\\n': 61, 'X': 62, '7': 63, 'u': 64, 'd': 65, ')': 66, '\"': 67, 'U': 68, '5': 69, '@': 70, '*': 71, '$': 72, 'n': 73, '?': 74, 'G': 75, 'j': 76, 'h': 77, 'B': 78, 'T': 79, '-': 80}\n"
     ]
    }
   ],
   "source": [
    "char_to_ix = {ch:i for i,ch in enumerate(chars)}\n",
    "ix_to_char = {i:ch for i,ch in enumerate(chars)}\n",
    "print(ix_to_char)\n",
    "print(char_to_ix)"
   ]
  },
  {
   "cell_type": "code",
   "execution_count": 7,
   "metadata": {
    "collapsed": true
   },
   "outputs": [],
   "source": [
    "import numpy as np\n"
   ]
  },
  {
   "cell_type": "code",
   "execution_count": 8,
   "metadata": {
    "collapsed": true
   },
   "outputs": [],
   "source": [
    "#hyperparameter\n",
    "hidden_size = 100\n",
    "seq_length = 25\n",
    "learning_rate = 1e-1"
   ]
  },
  {
   "cell_type": "code",
   "execution_count": 12,
   "metadata": {},
   "outputs": [],
   "source": [
    "#model_parameters\n",
    "Wxh = np.random.randn(hidden_size,vocab_size)*0.01\n",
    "Whh = np.random.randn(hidden_size,hidden_size)*0.01\n",
    "Why = np.random.randn(vocab_size,hidden_size)*0.01\n",
    "bh = np.zeros((hidden_size,1))\n",
    "by = np.zeros((vocab_size,1))"
   ]
  },
  {
   "cell_type": "code",
   "execution_count": null,
   "metadata": {
    "collapsed": true
   },
   "outputs": [],
   "source": [
    "def lossfun(inputs,targets,hprev):\n",
    "    xs,hs,ys,ps = {},{},{},{}\n",
    "    loss = 0\n",
    "    \n",
    "    #forwardpass\n",
    "    for t in range (len(inputs)):\n",
    "        "
   ]
  }
 ],
 "metadata": {
  "kernelspec": {
   "display_name": "Python 3",
   "language": "python",
   "name": "python3"
  },
  "language_info": {
   "codemirror_mode": {
    "name": "ipython",
    "version": 3
   },
   "file_extension": ".py",
   "mimetype": "text/x-python",
   "name": "python",
   "nbconvert_exporter": "python",
   "pygments_lexer": "ipython3",
   "version": "3.6.3"
  }
 },
 "nbformat": 4,
 "nbformat_minor": 2
}
